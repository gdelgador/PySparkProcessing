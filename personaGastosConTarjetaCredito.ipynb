{
 "cells": [
  {
   "cell_type": "code",
   "execution_count": 2,
   "metadata": {},
   "outputs": [],
   "source": [
    "from pyspark.sql import SparkSession\n",
    "\n",
    "spark = (SparkSession.builder\n",
    "    .appName(\"Example1\")\n",
    "    .getOrCreate()\n",
    ")\n",
    "\n",
    "sc = spark.sparkContext\n"
   ]
  },
  {
   "cell_type": "code",
   "execution_count": 15,
   "metadata": {},
   "outputs": [],
   "source": [
    "# 1. lectura de datos\n",
    "rdd = sc.textFile('./data/casoDePrueba1.txt')\n",
    "\n",
    "# Convirtiendo datos en tupla\n",
    "rdd = (rdd\n",
    "       .map(lambda line: line.split(\";\"))\n",
    "       .map(lambda x: (x[0], x[1], float(x[2])))\n",
    ")"
   ]
  },
  {
   "cell_type": "code",
   "execution_count": 20,
   "metadata": {},
   "outputs": [],
   "source": [
    "# Seleccionamos persona y gasto en caso este sea con TDC en otro caso se coloca 0\n",
    "rdd_mapped = rdd.map(lambda x: (x[0], x[2] if x[1] == 'Tarjeta de crédito' else 0))\n",
    "\n",
    "# Sumarizamos los gastos por persona\n",
    "rdd_reduced = rdd_mapped.reduceByKey(lambda x, y: x + y)"
   ]
  },
  {
   "cell_type": "code",
   "execution_count": 22,
   "metadata": {},
   "outputs": [],
   "source": [
    "# Generamos nuevo rdd con separador\n",
    "rdd_save = rdd_reduced.map(lambda x: f\"{x[0]};{x[1]}\")\n",
    "\n",
    "# almacenamos data en path\n",
    "out_path = './out/personaGastosConTarjetaCredito.txt'\n",
    "rdd_save.saveAsTextFile(out_path)\n"
   ]
  },
  {
   "cell_type": "code",
   "execution_count": null,
   "metadata": {},
   "outputs": [],
   "source": []
  }
 ],
 "metadata": {
  "kernelspec": {
   "display_name": "Python 3",
   "language": "python",
   "name": "python3"
  },
  "language_info": {
   "codemirror_mode": {
    "name": "ipython",
    "version": 3
   },
   "file_extension": ".py",
   "mimetype": "text/x-python",
   "name": "python",
   "nbconvert_exporter": "python",
   "pygments_lexer": "ipython3",
   "version": "3.10.13"
  }
 },
 "nbformat": 4,
 "nbformat_minor": 2
}
