{
 "cells": [
  {
   "cell_type": "code",
   "execution_count": 1,
   "metadata": {},
   "outputs": [
    {
     "name": "stdout",
     "output_type": "stream",
     "text": [
      "24/06/19 22:19:51 WARN Utils: Your hostname, codespaces-328e39 resolves to a loopback address: 127.0.0.1; using 172.16.5.4 instead (on interface eth0)\n",
      "24/06/19 22:19:51 WARN Utils: Set SPARK_LOCAL_IP if you need to bind to another address\n"
     ]
    },
    {
     "name": "stderr",
     "output_type": "stream",
     "text": [
      "Setting default log level to \"WARN\".\n",
      "To adjust logging level use sc.setLogLevel(newLevel). For SparkR, use setLogLevel(newLevel).\n"
     ]
    },
    {
     "name": "stdout",
     "output_type": "stream",
     "text": [
      "24/06/19 22:19:51 WARN NativeCodeLoader: Unable to load native-hadoop library for your platform... using builtin-java classes where applicable\n",
      "24/06/19 22:19:52 WARN Utils: Service 'SparkUI' could not bind on port 4040. Attempting port 4041.\n"
     ]
    }
   ],
   "source": [
    "from pyspark.sql import SparkSession\n",
    "\n",
    "# generamos contexto spark\n",
    "spark = (SparkSession.builder\n",
    "    .appName(\"Example3\")\n",
    "    .getOrCreate()\n",
    ")\n",
    "\n",
    "sc = spark.sparkContext"
   ]
  },
  {
   "cell_type": "code",
   "execution_count": 6,
   "metadata": {},
   "outputs": [],
   "source": [
    "def save_file(rrd, file_path):\n",
    "    # Generamos nuevo rdd con separador\n",
    "    rdd_save = rrd.map(lambda x: f\"{x[0]};{x[1]}\")\n",
    "\n",
    "    # almacenamos data en path\n",
    "    rdd_save.saveAsTextFile(file_path)"
   ]
  },
  {
   "cell_type": "code",
   "execution_count": 2,
   "metadata": {},
   "outputs": [],
   "source": [
    "# 1. lectura de datos\n",
    "rdd = sc.textFile('./data/casoDePrueba3.txt')\n",
    "\n",
    "# Convirtiendo datos en tupla\n",
    "rdd = (rdd\n",
    "       .map(lambda line: line.split(\";\"))\n",
    "       .map(lambda x: (x[0], x[1], float(x[2])))\n",
    ")"
   ]
  },
  {
   "cell_type": "code",
   "execution_count": 5,
   "metadata": {},
   "outputs": [
    {
     "name": "stderr",
     "output_type": "stream",
     "text": [
      "                                                                                \r"
     ]
    },
    {
     "data": {
      "text/plain": [
       "[('Alice', 0), ('Bob', 1)]"
      ]
     },
     "execution_count": 5,
     "metadata": {},
     "output_type": "execute_result"
    }
   ],
   "source": [
    "\"\"\"\n",
    "a) Por cada persona indique en cuántas compras pagó más de 1500 euros con un medio de pago\n",
    "diferente a tarjeta de crédito. La solución se tiene que guardar en un archivo llamado\n",
    "comprasSinTDCMayorDe1500\n",
    "\"\"\"\n",
    "# aplicando funcion map según condiciones\n",
    "rdd_map = rdd.map(lambda x: (x[0], 1 if x[1]!='Tarjeta de crédito' and x[2]>1500 else 0))\n",
    "rdd_group = rdd_map.reduceByKey(lambda x,y: x+y)\n",
    "\n",
    "rdd_group.collect()\n"
   ]
  },
  {
   "cell_type": "code",
   "execution_count": 7,
   "metadata": {},
   "outputs": [],
   "source": [
    "save_file(rdd_group, file_path='./out/comprasSinTDCMayorDe1500')"
   ]
  },
  {
   "cell_type": "code",
   "execution_count": 8,
   "metadata": {},
   "outputs": [],
   "source": [
    "\"\"\"\n",
    "b)Por cada persona indique en cuántas compras pagó menos o igual a 1500 euros con un medio de\n",
    "pago diferente a tarjeta de crédito. La solución se tiene que guardar en un archivo llamado\n",
    "comprasSinTDCMenoroIgualDe1500.\n",
    "\"\"\"\n",
    "\n",
    "rdd_map = rdd.map(lambda x: (x[0], 1 if x[1]!='Tarjeta de crédito' and x[2]<=1500 else 0))\n",
    "rdd_group = rdd_map.reduceByKey(lambda x,y: x+y)\n"
   ]
  },
  {
   "cell_type": "code",
   "execution_count": 9,
   "metadata": {},
   "outputs": [],
   "source": [
    "save_file(rdd_group, file_path='./out/comprasSinTDCMenoroIgualDe1500')"
   ]
  },
  {
   "cell_type": "code",
   "execution_count": null,
   "metadata": {},
   "outputs": [],
   "source": []
  }
 ],
 "metadata": {
  "kernelspec": {
   "display_name": "Python 3",
   "language": "python",
   "name": "python3"
  },
  "language_info": {
   "codemirror_mode": {
    "name": "ipython",
    "version": 3
   },
   "file_extension": ".py",
   "mimetype": "text/x-python",
   "name": "python",
   "nbconvert_exporter": "python",
   "pygments_lexer": "ipython3",
   "version": "3.10.13"
  }
 },
 "nbformat": 4,
 "nbformat_minor": 2
}
